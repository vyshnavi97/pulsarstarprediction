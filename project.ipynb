{
 "cells": [
  {
   "cell_type": "code",
   "execution_count": 1,
   "metadata": {},
   "outputs": [],
   "source": [
    "import pandas as pd\n",
    "import numpy as np\n",
    "import matplotlib.pyplot as plt\n",
    "%matplotlib inline"
   ]
  },
  {
   "cell_type": "code",
   "execution_count": 2,
   "metadata": {},
   "outputs": [],
   "source": [
    "data = pd.read_csv('C:\\\\Users\\\\manog\\\\Desktop\\\\MS_CS_subjects\\\\ML\\\\Project\\\\pulsar_stars.csv', \n",
    "                   names = ['a','b','c','d','e','f','g','h','target'])"
   ]
  },
  {
   "cell_type": "markdown",
   "metadata": {},
   "source": [
    "Column names -->\n",
    "\n",
    "a      : Mean of the integrated profile\n",
    "\n",
    "b      : Standard Deviation of the integrated profile\n",
    "\n",
    "c      : Excess kurtosis of the integrated profile\n",
    "\n",
    "d      : Skewness of the integrated profile\n",
    "\n",
    "e      : Mean of the DM-SNR curve\n",
    "\n",
    "f      : Standard deviation of the DM-SNR curve\n",
    "\n",
    "g      : Excess kurtosis of the DM-SNR curve\n",
    "\n",
    "h      : Skewness of the DM-SNR curve\n",
    "\n",
    "target : target class (0 for not a pulsar star; 1 for a pulsar star)"
   ]
  },
  {
   "cell_type": "code",
   "execution_count": 3,
   "metadata": {},
   "outputs": [
    {
     "data": {
      "text/html": [
       "<div>\n",
       "<style scoped>\n",
       "    .dataframe tbody tr th:only-of-type {\n",
       "        vertical-align: middle;\n",
       "    }\n",
       "\n",
       "    .dataframe tbody tr th {\n",
       "        vertical-align: top;\n",
       "    }\n",
       "\n",
       "    .dataframe thead th {\n",
       "        text-align: right;\n",
       "    }\n",
       "</style>\n",
       "<table border=\"1\" class=\"dataframe\">\n",
       "  <thead>\n",
       "    <tr style=\"text-align: right;\">\n",
       "      <th></th>\n",
       "      <th>a</th>\n",
       "      <th>b</th>\n",
       "      <th>c</th>\n",
       "      <th>d</th>\n",
       "      <th>e</th>\n",
       "      <th>f</th>\n",
       "      <th>g</th>\n",
       "      <th>h</th>\n",
       "      <th>target</th>\n",
       "    </tr>\n",
       "  </thead>\n",
       "  <tbody>\n",
       "    <tr>\n",
       "      <th>0</th>\n",
       "      <td>140.562500</td>\n",
       "      <td>55.683782</td>\n",
       "      <td>-0.234571</td>\n",
       "      <td>-0.699648</td>\n",
       "      <td>3.199833</td>\n",
       "      <td>19.110426</td>\n",
       "      <td>7.975532</td>\n",
       "      <td>74.242225</td>\n",
       "      <td>0</td>\n",
       "    </tr>\n",
       "    <tr>\n",
       "      <th>1</th>\n",
       "      <td>102.507812</td>\n",
       "      <td>58.882430</td>\n",
       "      <td>0.465318</td>\n",
       "      <td>-0.515088</td>\n",
       "      <td>1.677258</td>\n",
       "      <td>14.860146</td>\n",
       "      <td>10.576487</td>\n",
       "      <td>127.393580</td>\n",
       "      <td>0</td>\n",
       "    </tr>\n",
       "    <tr>\n",
       "      <th>2</th>\n",
       "      <td>103.015625</td>\n",
       "      <td>39.341649</td>\n",
       "      <td>0.323328</td>\n",
       "      <td>1.051164</td>\n",
       "      <td>3.121237</td>\n",
       "      <td>21.744669</td>\n",
       "      <td>7.735822</td>\n",
       "      <td>63.171909</td>\n",
       "      <td>0</td>\n",
       "    </tr>\n",
       "    <tr>\n",
       "      <th>3</th>\n",
       "      <td>136.750000</td>\n",
       "      <td>57.178449</td>\n",
       "      <td>-0.068415</td>\n",
       "      <td>-0.636238</td>\n",
       "      <td>3.642977</td>\n",
       "      <td>20.959280</td>\n",
       "      <td>6.896499</td>\n",
       "      <td>53.593661</td>\n",
       "      <td>0</td>\n",
       "    </tr>\n",
       "    <tr>\n",
       "      <th>4</th>\n",
       "      <td>88.726562</td>\n",
       "      <td>40.672225</td>\n",
       "      <td>0.600866</td>\n",
       "      <td>1.123492</td>\n",
       "      <td>1.178930</td>\n",
       "      <td>11.468720</td>\n",
       "      <td>14.269573</td>\n",
       "      <td>252.567306</td>\n",
       "      <td>0</td>\n",
       "    </tr>\n",
       "  </tbody>\n",
       "</table>\n",
       "</div>"
      ],
      "text/plain": [
       "            a          b         c         d         e          f          g  \\\n",
       "0  140.562500  55.683782 -0.234571 -0.699648  3.199833  19.110426   7.975532   \n",
       "1  102.507812  58.882430  0.465318 -0.515088  1.677258  14.860146  10.576487   \n",
       "2  103.015625  39.341649  0.323328  1.051164  3.121237  21.744669   7.735822   \n",
       "3  136.750000  57.178449 -0.068415 -0.636238  3.642977  20.959280   6.896499   \n",
       "4   88.726562  40.672225  0.600866  1.123492  1.178930  11.468720  14.269573   \n",
       "\n",
       "            h  target  \n",
       "0   74.242225       0  \n",
       "1  127.393580       0  \n",
       "2   63.171909       0  \n",
       "3   53.593661       0  \n",
       "4  252.567306       0  "
      ]
     },
     "execution_count": 3,
     "metadata": {},
     "output_type": "execute_result"
    }
   ],
   "source": [
    "data.head()"
   ]
  },
  {
   "cell_type": "code",
   "execution_count": 4,
   "metadata": {},
   "outputs": [],
   "source": [
    "from sklearn.model_selection import train_test_split"
   ]
  },
  {
   "cell_type": "code",
   "execution_count": 5,
   "metadata": {},
   "outputs": [
    {
     "name": "stdout",
     "output_type": "stream",
     "text": [
      "                a          b         c         d           e          f  \\\n",
      "0      140.562500  55.683782 -0.234571 -0.699648    3.199833  19.110426   \n",
      "1      102.507812  58.882430  0.465318 -0.515088    1.677258  14.860146   \n",
      "2      103.015625  39.341649  0.323328  1.051164    3.121237  21.744669   \n",
      "3      136.750000  57.178449 -0.068415 -0.636238    3.642977  20.959280   \n",
      "4       88.726562  40.672225  0.600866  1.123492    1.178930  11.468720   \n",
      "5       93.570312  46.698114  0.531905  0.416721    1.636288  14.545074   \n",
      "6      119.484375  48.765059  0.031460 -0.112168    0.999164   9.279612   \n",
      "7      130.382812  39.844056 -0.158323  0.389540    1.220736  14.378941   \n",
      "8      107.250000  52.627078  0.452688  0.170347    2.331940  14.486853   \n",
      "9      107.257812  39.496488  0.465882  1.162877    4.079431  24.980418   \n",
      "10     142.078125  45.288073 -0.320328  0.283953    5.376254  29.009897   \n",
      "11     133.257812  44.058244 -0.081060  0.115362    1.632107  12.007806   \n",
      "12     134.960938  49.554327 -0.135304 -0.080470   10.696488  41.342044   \n",
      "13     117.945312  45.506577  0.325438  0.661459    2.836120  23.118350   \n",
      "14     138.179688  51.524484 -0.031852  0.046797    6.330268  31.576347   \n",
      "15     114.367188  51.945716 -0.094499 -0.287984    2.738294  17.191891   \n",
      "16     109.640625  49.017652  0.137636 -0.256700    1.508361  12.072901   \n",
      "17     100.851562  51.743522  0.393837 -0.011241    2.841137  21.635778   \n",
      "18     136.093750  51.691005 -0.045909 -0.271816    9.342809  38.096400   \n",
      "19      99.367188  41.572202  1.547197  4.154106   27.555184  61.719016   \n",
      "20     100.890625  51.890394  0.627487 -0.026498    3.883779  23.045267   \n",
      "21     105.445312  41.139969  0.142654  0.320420    3.551839  20.755017   \n",
      "22      95.867188  42.059922  0.326387  0.803502    1.832776  12.248969   \n",
      "23     117.367188  53.908614  0.257953 -0.405049    6.018395  24.766123   \n",
      "24     106.648438  56.367182  0.378355 -0.266372    2.436455  18.405371   \n",
      "25     112.718750  50.301270  0.279391 -0.129011    8.281773  37.810012   \n",
      "26     130.851562  52.432857  0.142597  0.018885    2.646321  15.654436   \n",
      "27     119.437500  52.874815 -0.002549 -0.460360    2.365385  16.498032   \n",
      "28     123.210938  51.078012  0.179377 -0.177285    2.107023  16.921773   \n",
      "29     102.617188  49.692354  0.230439  0.193325    1.489130  16.004411   \n",
      "...           ...        ...       ...       ...         ...        ...   \n",
      "17868   96.859375  49.822769  0.276811 -0.331824    1.744147  14.764022   \n",
      "17869  137.375000  50.762775  0.085075 -0.092679    7.561037  33.471080   \n",
      "17870  110.765625  55.342186  0.066100 -0.500415   14.379599  45.320742   \n",
      "17871  119.007812  52.091041  0.215294 -0.020229    2.012542  18.754594   \n",
      "17872  139.898438  44.281034 -0.044618  0.100841    1.139632  11.196096   \n",
      "17873   89.453125  35.848827  0.731656  3.101474    1.450669  14.204964   \n",
      "17874  126.554688  54.275888  0.207825 -0.191686    2.294314  17.429850   \n",
      "17875  133.140625  43.706181 -0.012686  0.232394    2.091973  13.489370   \n",
      "17876  111.765625  52.943585  0.671724  0.383594  149.843646  97.926948   \n",
      "17877  118.296875  49.932824  0.144401 -0.269273    1.041806  10.199265   \n",
      "17878   90.148438  40.786044  0.457139  0.885516    5.354515  29.759511   \n",
      "17879  107.664062  44.462463  0.296046  0.227765    6.290970  33.512873   \n",
      "17880  105.492188  43.500718  0.154180  0.408117    2.316054  19.098507   \n",
      "17881  130.500000  46.149553  0.084445 -0.107355    1.529264  11.757086   \n",
      "17882  131.000000  55.935789 -0.023598 -0.536651    1.159699  10.856794   \n",
      "17883   84.421875  41.775555  0.757467  1.107075    1.336120  12.026757   \n",
      "17884  106.875000  47.571328  0.199440  0.284964    3.079431  20.984455   \n",
      "17885  133.820312  43.478161  0.136691  0.353121    0.982441   9.486068   \n",
      "17886  127.070312  47.663564  0.006552 -0.123634    0.853679  11.197206   \n",
      "17887  121.375000  53.245158  0.103772 -0.365119    1.095318  12.239976   \n",
      "17888   98.726562  50.407823  0.565124  0.245231    0.570234   9.011285   \n",
      "17889  126.625000  55.721826  0.002946 -0.303218    0.534281   8.588882   \n",
      "17890  143.671875  45.302647 -0.045769  0.353643    5.173913  26.462345   \n",
      "17891  118.484375  50.608483 -0.029059 -0.027494    0.422241   8.086684   \n",
      "17892   96.000000  44.193113  0.388674  0.281344    1.871237  15.833746   \n",
      "17893  136.429688  59.847421 -0.187846 -0.738123    1.296823  12.166062   \n",
      "17894  122.554688  49.485605  0.127978  0.323061   16.409699  44.626893   \n",
      "17895  119.335938  59.935939  0.159363 -0.743025   21.430602  58.872000   \n",
      "17896  114.507812  53.902400  0.201161 -0.024789    1.946488  13.381731   \n",
      "17897   57.062500  85.797340  1.406391  0.089520  188.306020  64.712562   \n",
      "\n",
      "               g           h  \n",
      "0       7.975532   74.242225  \n",
      "1      10.576487  127.393580  \n",
      "2       7.735822   63.171909  \n",
      "3       6.896499   53.593661  \n",
      "4      14.269573  252.567306  \n",
      "5      10.621748  131.394004  \n",
      "6      19.206230  479.756567  \n",
      "7      13.539456  198.236457  \n",
      "8       9.001004  107.972506  \n",
      "9       7.397080   57.784738  \n",
      "10      6.076266   37.831393  \n",
      "11     11.972067  195.543448  \n",
      "12      3.893934   14.131206  \n",
      "13      8.943212   82.475592  \n",
      "14      5.155940   26.143310  \n",
      "15      9.050612   96.611903  \n",
      "16     13.367926  223.438419  \n",
      "17      8.302242   71.584369  \n",
      "18      4.345438   18.673649  \n",
      "19      2.208808    3.662680  \n",
      "20      6.953168   52.279440  \n",
      "21      7.739552   68.519771  \n",
      "22     11.249331  177.230771  \n",
      "23      4.807783   25.522616  \n",
      "24      9.378660   96.860225  \n",
      "25      4.691827   21.276210  \n",
      "26      9.464164  115.673159  \n",
      "27      9.008352   94.755657  \n",
      "28     10.080333  112.558591  \n",
      "29     12.646535  171.832902  \n",
      "...          ...         ...  \n",
      "17868  11.743961  160.619545  \n",
      "17869   4.782510   23.379982  \n",
      "17870   3.120461    8.463600  \n",
      "17871  10.339768  111.760522  \n",
      "17872  15.156427  280.553590  \n",
      "17873  11.203558  142.473878  \n",
      "17874  10.469100  122.767628  \n",
      "17875   9.821958  131.521033  \n",
      "17876  -0.696153   -1.260403  \n",
      "17877  16.739483  355.416666  \n",
      "17878   6.102231   37.979520  \n",
      "17879   5.536014   30.245117  \n",
      "17880   9.377229   95.200946  \n",
      "17881  12.533831  211.327081  \n",
      "17882  15.019974  289.362790  \n",
      "17883  14.502863  258.119819  \n",
      "17884   8.427475   78.259366  \n",
      "17885  18.528395  444.411748  \n",
      "17886  16.122702  296.507738  \n",
      "17887  16.258042  303.880023  \n",
      "17888  22.018589  561.833787  \n",
      "17889  23.913761  660.197035  \n",
      "17890   5.706651   33.802613  \n",
      "17891  27.446113  830.638550  \n",
      "17892   9.634927  104.821623  \n",
      "17893  15.450260  285.931022  \n",
      "17894   2.945244    8.297092  \n",
      "17895   2.499517    4.595173  \n",
      "17896  10.007967  134.238910  \n",
      "17897  -1.597527    1.429475  \n",
      "\n",
      "[17898 rows x 8 columns]\n"
     ]
    }
   ],
   "source": [
    "X = data.drop(['target'], axis = 1)\n",
    "print(X)"
   ]
  },
  {
   "cell_type": "code",
   "execution_count": 6,
   "metadata": {},
   "outputs": [
    {
     "name": "stdout",
     "output_type": "stream",
     "text": [
      "0        0\n",
      "1        0\n",
      "2        0\n",
      "3        0\n",
      "4        0\n",
      "5        0\n",
      "6        0\n",
      "7        0\n",
      "8        0\n",
      "9        0\n",
      "10       0\n",
      "11       0\n",
      "12       0\n",
      "13       0\n",
      "14       0\n",
      "15       0\n",
      "16       0\n",
      "17       0\n",
      "18       0\n",
      "19       1\n",
      "20       0\n",
      "21       0\n",
      "22       0\n",
      "23       0\n",
      "24       0\n",
      "25       0\n",
      "26       0\n",
      "27       0\n",
      "28       0\n",
      "29       0\n",
      "        ..\n",
      "17868    0\n",
      "17869    0\n",
      "17870    0\n",
      "17871    0\n",
      "17872    0\n",
      "17873    0\n",
      "17874    0\n",
      "17875    0\n",
      "17876    1\n",
      "17877    0\n",
      "17878    0\n",
      "17879    0\n",
      "17880    0\n",
      "17881    0\n",
      "17882    0\n",
      "17883    0\n",
      "17884    0\n",
      "17885    0\n",
      "17886    0\n",
      "17887    0\n",
      "17888    0\n",
      "17889    0\n",
      "17890    0\n",
      "17891    0\n",
      "17892    0\n",
      "17893    0\n",
      "17894    0\n",
      "17895    0\n",
      "17896    0\n",
      "17897    0\n",
      "Name: target, Length: 17898, dtype: int64\n"
     ]
    }
   ],
   "source": [
    "Y = data['target']\n",
    "print(Y)"
   ]
  },
  {
   "cell_type": "code",
   "execution_count": 7,
   "metadata": {},
   "outputs": [],
   "source": [
    "train_x, test_x, train_y, test_y = train_test_split(X, Y, test_size = 0.3, random_state = 42)"
   ]
  },
  {
   "cell_type": "code",
   "execution_count": 8,
   "metadata": {},
   "outputs": [
    {
     "name": "stderr",
     "output_type": "stream",
     "text": [
      "C:\\Users\\manog\\Anaconda3\\lib\\site-packages\\sklearn\\ensemble\\weight_boosting.py:29: DeprecationWarning: numpy.core.umath_tests is an internal NumPy module and should not be imported. It will be removed in a future NumPy release.\n",
      "  from numpy.core.umath_tests import inner1d\n"
     ]
    }
   ],
   "source": [
    "from sklearn.ensemble import RandomForestClassifier\n",
    "from sklearn.linear_model import LogisticRegression\n",
    "from sklearn.svm import LinearSVC\n",
    "from sklearn import metrics"
   ]
  },
  {
   "cell_type": "markdown",
   "metadata": {},
   "source": [
    "### Random Forest Classifier:"
   ]
  },
  {
   "cell_type": "markdown",
   "metadata": {},
   "source": [
    "#### Training phase:"
   ]
  },
  {
   "cell_type": "code",
   "execution_count": 156,
   "metadata": {},
   "outputs": [],
   "source": [
    "clf = RandomForestClassifier(criterion='entropy', max_depth=5, random_state=0)\n",
    "clf = clf.fit(train_x, train_y)"
   ]
  },
  {
   "cell_type": "code",
   "execution_count": 10,
   "metadata": {},
   "outputs": [
    {
     "name": "stdout",
     "output_type": "stream",
     "text": [
      "[0.30893979 0.00910892 0.24348117 0.30825887 0.02690306 0.07149758\n",
      " 0.01620067 0.01560995]\n"
     ]
    }
   ],
   "source": [
    "print(clf.feature_importances_)"
   ]
  },
  {
   "cell_type": "code",
   "execution_count": 11,
   "metadata": {},
   "outputs": [
    {
     "name": "stdout",
     "output_type": "stream",
     "text": [
      "[1 0 0 ... 0 0 0]\n"
     ]
    }
   ],
   "source": [
    "y_pred_rfc = clf.predict(train_x)\n",
    "print(y_pred_rfc)"
   ]
  },
  {
   "cell_type": "markdown",
   "metadata": {},
   "source": [
    "#### Metrics for Performance Measure:"
   ]
  },
  {
   "cell_type": "code",
   "execution_count": 12,
   "metadata": {},
   "outputs": [
    {
     "name": "stdout",
     "output_type": "stream",
     "text": [
      "Training accuracy score: 98.156130\n"
     ]
    }
   ],
   "source": [
    "print('Training accuracy score: %f' % (clf.score(train_x,train_y) * 100.00))"
   ]
  },
  {
   "cell_type": "code",
   "execution_count": 15,
   "metadata": {},
   "outputs": [
    {
     "name": "stdout",
     "output_type": "stream",
     "text": [
      "[[11382    50]\n",
      " [  181   915]]\n"
     ]
    },
    {
     "data": {
      "image/png": "[encoded data removed]",
      "text/plain": [
       "<Figure size 432x288 with 2 Axes>"
      ]
     },
     "metadata": {
      "needs_background": "light"
     },
     "output_type": "display_data"
    }
   ],
   "source": [
    "#confusion matrix for random forest classifier\n",
    "\n",
    "cm = metrics.confusion_matrix(train_y, y_pred_rfc)\n",
    "print(cm)\n",
    "plt.imshow(cm, cmap=plt.cm.Reds, interpolation='nearest')\n",
    "plt.title('confusion matrix for random forest classifier')\n",
    "plt.colorbar()\n",
    "plt.xticks([0, 1])\n",
    "plt.yticks([0, 1])\n",
    "plt.xlabel('Predicted label')\n",
    "plt.ylabel('True label')\n",
    "plt.show()"
   ]
  },
  {
   "cell_type": "code",
   "execution_count": 22,
   "metadata": {},
   "outputs": [
    {
     "name": "stdout",
     "output_type": "stream",
     "text": [
      "true_negative: 11382, false_positive: 50, false_negative: 181, true_positive: 915\n"
     ]
    }
   ],
   "source": [
    "true_negative, false_positive, false_negative, true_positive = cm[0][0], cm[0][1], cm[1][0], cm[1][1]\n",
    "print('true_negative: %d, false_positive: %d, false_negative: %d, true_positive: %d' \n",
    "      %(true_negative, false_positive, false_negative, true_positive))"
   ]
  },
  {
   "cell_type": "code",
   "execution_count": 26,
   "metadata": {},
   "outputs": [
    {
     "name": "stdout",
     "output_type": "stream",
     "text": [
      "Precision: 0.948187\n"
     ]
    }
   ],
   "source": [
    "precision = true_positive/(true_positive+false_positive)\n",
    "print('Precision: %f' %precision)"
   ]
  },
  {
   "cell_type": "code",
   "execution_count": 27,
   "metadata": {},
   "outputs": [
    {
     "name": "stdout",
     "output_type": "stream",
     "text": [
      "Recall: 0.834854\n"
     ]
    }
   ],
   "source": [
    "recall = true_positive/(true_positive+false_negative)\n",
    "print('Recall: %f' %recall)"
   ]
  },
  {
   "cell_type": "code",
   "execution_count": 28,
   "metadata": {},
   "outputs": [
    {
     "name": "stdout",
     "output_type": "stream",
     "text": [
      "f1 score: 0.887918\n"
     ]
    }
   ],
   "source": [
    "f1_score = (2*precision*recall)/(precision+recall)\n",
    "print('f1 score: %f' %((2*precision*recall)/(precision+recall)))"
   ]
  },
  {
   "cell_type": "code",
   "execution_count": 29,
   "metadata": {},
   "outputs": [
    {
     "name": "stdout",
     "output_type": "stream",
     "text": [
      "Area under roc curve: 0.915240\n"
     ]
    },
    {
     "data": {
      "image/png": "[encoded data removed]",
      "text/plain": [
       "<Figure size 432x288 with 1 Axes>"
      ]
     },
     "metadata": {
      "needs_background": "light"
     },
     "output_type": "display_data"
    }
   ],
   "source": [
    "fpr, tpr, threshold = metrics.roc_curve(train_y, y_pred_rfc)\n",
    "roc_area = metrics.auc(fpr, tpr)\n",
    "print('Area under roc curve: %f' %roc_area)\n",
    "\n",
    "plt.plot(fpr, tpr, color='darkorange')\n",
    "plt.xlabel('False Positive Rate')\n",
    "plt.ylabel('True Positive Rate')\n",
    "plt.title('Receiver operating characteristic(ROC) curve')\n",
    "plt.show()"
   ]
  },
  {
   "cell_type": "markdown",
   "metadata": {},
   "source": [
    "#### Testing phase:"
   ]
  },
  {
   "cell_type": "code",
   "execution_count": 157,
   "metadata": {},
   "outputs": [
    {
     "name": "stdout",
     "output_type": "stream",
     "text": [
      "[0 0 0 ... 0 0 0]\n"
     ]
    }
   ],
   "source": [
    "ytest_pred_rfc = clf.predict(test_x)\n",
    "print(ytest_pred_rfc)"
   ]
  },
  {
   "cell_type": "code",
   "execution_count": 49,
   "metadata": {},
   "outputs": [
    {
     "name": "stdout",
     "output_type": "stream",
     "text": [
      "Test accuracy score: 97.802607\n"
     ]
    }
   ],
   "source": [
    "print('Test accuracy score: %f' %(metrics.accuracy_score(test_y,clf.predict(test_x)) * 100.00))"
   ]
  },
  {
   "cell_type": "markdown",
   "metadata": {},
   "source": [
    "### Decision Tree classifier:"
   ]
  },
  {
   "cell_type": "markdown",
   "metadata": {},
   "source": [
    "#### Training phase:"
   ]
  },
  {
   "cell_type": "code",
   "execution_count": 161,
   "metadata": {},
   "outputs": [],
   "source": [
    "from sklearn import tree\n",
    "from sklearn.tree import DecisionTreeClassifier\n",
    "\n",
    "clf = DecisionTreeClassifier(criterion='entropy', max_depth=5, random_state=0)\n",
    "clf = clf.fit(train_x, train_y)\n",
    "\n",
    "tree.export_graphviz(clf, out_file=\"graph.dot\")"
   ]
  },
  {
   "cell_type": "code",
   "execution_count": 31,
   "metadata": {},
   "outputs": [
    {
     "data": {
      "text/plain": [
       "0"
      ]
     },
     "execution_count": 31,
     "metadata": {},
     "output_type": "execute_result"
    }
   ],
   "source": [
    "from subprocess import call\n",
    "call(['dot', '-Tpng', 'graph.dot', '-o', 'graph.png', '-Gdpi=600'])"
   ]
  },
  {
   "cell_type": "code",
   "execution_count": 32,
   "metadata": {},
   "outputs": [
    {
     "name": "stdout",
     "output_type": "stream",
     "text": [
      "[1 0 0 ... 0 0 0]\n"
     ]
    }
   ],
   "source": [
    "y_pred_dtc = clf.predict(train_x)\n",
    "print(y_pred_dtc)"
   ]
  },
  {
   "cell_type": "markdown",
   "metadata": {},
   "source": [
    "#### Metrics for Performance Measure:"
   ]
  },
  {
   "cell_type": "code",
   "execution_count": 33,
   "metadata": {},
   "outputs": [
    {
     "name": "stdout",
     "output_type": "stream",
     "text": [
      "Training accuracy score: 98.475415\n"
     ]
    }
   ],
   "source": [
    "print('Training accuracy score: %f' %(clf.score(train_x,train_y) * 100.00))"
   ]
  },
  {
   "cell_type": "code",
   "execution_count": 34,
   "metadata": {},
   "outputs": [
    {
     "name": "stdout",
     "output_type": "stream",
     "text": [
      "[[11373    59]\n",
      " [  132   964]]\n"
     ]
    },
    {
     "data": {
      "image/png": "[encoded data removed]",
      "text/plain": [
       "<Figure size 432x288 with 2 Axes>"
      ]
     },
     "metadata": {
      "needs_background": "light"
     },
     "output_type": "display_data"
    }
   ],
   "source": [
    "#confusion matrix for random forest classifier\n",
    "\n",
    "cm = metrics.confusion_matrix(train_y, y_pred_dtc)\n",
    "print(cm)\n",
    "plt.imshow(cm, cmap=plt.cm.Reds, interpolation='nearest')\n",
    "plt.title('confusion matrix for decision tree classifier')\n",
    "plt.colorbar()\n",
    "plt.xticks([0, 1])\n",
    "plt.yticks([0, 1])\n",
    "plt.xlabel('Predicted label')\n",
    "plt.ylabel('True label')\n",
    "plt.show()"
   ]
  },
  {
   "cell_type": "code",
   "execution_count": 35,
   "metadata": {},
   "outputs": [
    {
     "name": "stdout",
     "output_type": "stream",
     "text": [
      "true_negative: 11373, false_positive: 59, false_negative: 132, true_positive: 964\n"
     ]
    }
   ],
   "source": [
    "true_negative, false_positive, false_negative, true_positive = cm[0][0], cm[0][1], cm[1][0], cm[1][1]\n",
    "print('true_negative: %d, false_positive: %d, false_negative: %d, true_positive: %d' \n",
    "      %(true_negative, false_positive, false_negative, true_positive))"
   ]
  },
  {
   "cell_type": "code",
   "execution_count": 36,
   "metadata": {},
   "outputs": [
    {
     "name": "stdout",
     "output_type": "stream",
     "text": [
      "Precision: 0.942326\n"
     ]
    }
   ],
   "source": [
    "precision = true_positive/(true_positive+false_positive)\n",
    "print('Precision: %f' %precision)"
   ]
  },
  {
   "cell_type": "code",
   "execution_count": 37,
   "metadata": {},
   "outputs": [
    {
     "name": "stdout",
     "output_type": "stream",
     "text": [
      "Recall: 0.879562\n"
     ]
    }
   ],
   "source": [
    "recall = true_positive/(true_positive+false_negative)\n",
    "print('Recall: %f' %recall)"
   ]
  },
  {
   "cell_type": "code",
   "execution_count": 38,
   "metadata": {},
   "outputs": [
    {
     "name": "stdout",
     "output_type": "stream",
     "text": [
      "f1 score: 0.909863\n"
     ]
    }
   ],
   "source": [
    "f1_score = (2*precision*recall)/(precision+recall)\n",
    "print('f1 score: %f' %((2*precision*recall)/(precision+recall)))"
   ]
  },
  {
   "cell_type": "code",
   "execution_count": 40,
   "metadata": {},
   "outputs": [
    {
     "name": "stdout",
     "output_type": "stream",
     "text": [
      "Area under roc curve: 0.937201\n"
     ]
    },
    {
     "data": {
      "image/png": "[encoded data removed]",
      "text/plain": [
       "<Figure size 432x288 with 1 Axes>"
      ]
     },
     "metadata": {
      "needs_background": "light"
     },
     "output_type": "display_data"
    }
   ],
   "source": [
    "fpr, tpr, threshold = metrics.roc_curve(train_y, y_pred_dtc)\n",
    "roc_area = metrics.auc(fpr, tpr)\n",
    "print('Area under roc curve: %f' %roc_area)\n",
    "\n",
    "plt.plot(fpr, tpr, color='darkorange')\n",
    "plt.xlabel('False Positive Rate')\n",
    "plt.ylabel('True Positive Rate')\n",
    "plt.title('Receiver operating characteristic(ROC) curve')\n",
    "plt.show()"
   ]
  },
  {
   "cell_type": "markdown",
   "metadata": {},
   "source": [
    "#### Testing phase:"
   ]
  },
  {
   "cell_type": "code",
   "execution_count": 162,
   "metadata": {},
   "outputs": [
    {
     "name": "stdout",
     "output_type": "stream",
     "text": [
      "[0 0 0 ... 0 0 0]\n"
     ]
    }
   ],
   "source": [
    "ytest_pred_dtc = clf.predict(test_x)\n",
    "print(ytest_pred_dtc)"
   ]
  },
  {
   "cell_type": "code",
   "execution_count": 54,
   "metadata": {},
   "outputs": [
    {
     "name": "stdout",
     "output_type": "stream",
     "text": [
      "Test accuracy score: 97.597765\n"
     ]
    }
   ],
   "source": [
    "print('Test accuracy score: %f' %(metrics.accuracy_score(test_y,clf.predict(test_x)) * 100.00))"
   ]
  },
  {
   "cell_type": "markdown",
   "metadata": {},
   "source": [
    "### Logistic Regression:"
   ]
  },
  {
   "cell_type": "markdown",
   "metadata": {},
   "source": [
    "#### Training phase:"
   ]
  },
  {
   "cell_type": "markdown",
   "metadata": {},
   "source": [
    "##### without sklearn library:"
   ]
  },
  {
   "cell_type": "code",
   "execution_count": 127,
   "metadata": {},
   "outputs": [
    {
     "name": "stderr",
     "output_type": "stream",
     "text": [
      "C:\\Users\\manog\\Anaconda3\\lib\\site-packages\\ipykernel_launcher.py:15: RuntimeWarning: overflow encountered in exp\n",
      "  from ipykernel import kernelapp as app\n"
     ]
    }
   ],
   "source": [
    "train_x = np.array(train_x)\n",
    "train_y = np.array(train_y)\n",
    "\n",
    "# initial vector weight with all zeros\n",
    "W = np.zeros(shape=(train_x.shape[1]))\n",
    "# initializing step value\n",
    "step = 0.01\n",
    "lamda = 0\n",
    "\n",
    "for iter_count in range(50):\n",
    "    # Gradient vector weight initialized with all zeros\n",
    "    G = np.zeros(shape=(train_x.shape[1]))\n",
    "    for i in range(train_x.shape[0]):\n",
    "        dot_product = np.sum(W * train_x[i,:])\n",
    "        p_i = 1/(1+np.exp(-1*dot_product)) - lamda * 2 *(np.sum(W))\n",
    "        error_i = train_y[i] - p_i\n",
    "        for j in range(train_x.shape[1]):\n",
    "            G[j] = G[j] + (error_i * train_x[i,j])\n",
    "    W = W + (step * G)"
   ]
  },
  {
   "cell_type": "code",
   "execution_count": 128,
   "metadata": {},
   "outputs": [
    {
     "name": "stdout",
     "output_type": "stream",
     "text": [
      "Training accuracy score: 96.527778\n"
     ]
    },
    {
     "name": "stderr",
     "output_type": "stream",
     "text": [
      "C:\\Users\\manog\\Anaconda3\\lib\\site-packages\\ipykernel_launcher.py:5: RuntimeWarning: overflow encountered in exp\n",
      "  \"\"\"\n"
     ]
    }
   ],
   "source": [
    "# calculating accuracy\n",
    "y_pred = np.zeros(shape=(train_y.shape[0]))\n",
    "for i in range(train_x.shape[0]):\n",
    "    # predicting based on W\n",
    "    if 1/(1+np.exp(-np.sum(W*train_x[i,:]))) >= 0.5:\n",
    "        # it is 1\n",
    "        y_pred[i] = 1\n",
    "    else:\n",
    "        # it is 0\n",
    "        y_pred[i] = 0\n",
    "\n",
    "train_acc = np.sum(train_y == y_pred)/y_pred.shape[0] * 100.00\n",
    "print('Training accuracy score: %f' %train_acc)"
   ]
  },
  {
   "cell_type": "markdown",
   "metadata": {},
   "source": [
    "##### with sklearn library:"
   ]
  },
  {
   "cell_type": "code",
   "execution_count": 165,
   "metadata": {},
   "outputs": [],
   "source": [
    "clf = LogisticRegression(penalty='l1', random_state=0, max_iter=50, solver='liblinear')\n",
    "clf = clf.fit(train_x, train_y)"
   ]
  },
  {
   "cell_type": "code",
   "execution_count": 131,
   "metadata": {},
   "outputs": [
    {
     "name": "stdout",
     "output_type": "stream",
     "text": [
      "[1 0 0 ... 0 0 0]\n"
     ]
    }
   ],
   "source": [
    "y_pred_lr = clf.predict(train_x)\n",
    "print(y_pred_lr)"
   ]
  },
  {
   "cell_type": "markdown",
   "metadata": {},
   "source": [
    "#### Metrics for Performance Measure:"
   ]
  },
  {
   "cell_type": "code",
   "execution_count": 132,
   "metadata": {},
   "outputs": [
    {
     "name": "stdout",
     "output_type": "stream",
     "text": [
      "Training accuracy score: 98.132184\n"
     ]
    }
   ],
   "source": [
    "print('Training accuracy score: %f' %(clf.score(train_x,train_y) * 100.00))"
   ]
  },
  {
   "cell_type": "code",
   "execution_count": 133,
   "metadata": {},
   "outputs": [
    {
     "name": "stdout",
     "output_type": "stream",
     "text": [
      "[[11375    57]\n",
      " [  177   919]]\n"
     ]
    },
    {
     "data": {
      "image/png": "[encoded data removed]",
      "text/plain": [
       "<Figure size 432x288 with 2 Axes>"
      ]
     },
     "metadata": {
      "needs_background": "light"
     },
     "output_type": "display_data"
    }
   ],
   "source": [
    "#confusion matrix for logistic regression\n",
    "\n",
    "cm = metrics.confusion_matrix(train_y, y_pred_lr)\n",
    "print(cm)\n",
    "plt.imshow(cm, cmap=plt.cm.Reds, interpolation='nearest')\n",
    "plt.title('confusion matrix for logistic regression')\n",
    "plt.colorbar()\n",
    "plt.xticks([0, 1])\n",
    "plt.yticks([0, 1])\n",
    "plt.xlabel('Predicted label')\n",
    "plt.ylabel('True label')\n",
    "plt.show()"
   ]
  },
  {
   "cell_type": "code",
   "execution_count": 134,
   "metadata": {},
   "outputs": [
    {
     "name": "stdout",
     "output_type": "stream",
     "text": [
      "true_negative: 11375, false_positive: 57, false_negative: 177, true_positive: 919\n"
     ]
    }
   ],
   "source": [
    "true_negative, false_positive, false_negative, true_positive = cm[0][0], cm[0][1], cm[1][0], cm[1][1]\n",
    "print('true_negative: %d, false_positive: %d, false_negative: %d, true_positive: %d' \n",
    "      %(true_negative, false_positive, false_negative, true_positive))"
   ]
  },
  {
   "cell_type": "code",
   "execution_count": 135,
   "metadata": {},
   "outputs": [
    {
     "name": "stdout",
     "output_type": "stream",
     "text": [
      "Precision: 0.941598\n"
     ]
    }
   ],
   "source": [
    "precision = true_positive/(true_positive+false_positive)\n",
    "print('Precision: %f' %precision)"
   ]
  },
  {
   "cell_type": "code",
   "execution_count": 136,
   "metadata": {},
   "outputs": [
    {
     "name": "stdout",
     "output_type": "stream",
     "text": [
      "Recall: 0.838504\n"
     ]
    }
   ],
   "source": [
    "recall = true_positive/(true_positive+false_negative)\n",
    "print('Recall: %f' %recall)"
   ]
  },
  {
   "cell_type": "code",
   "execution_count": 137,
   "metadata": {},
   "outputs": [
    {
     "name": "stdout",
     "output_type": "stream",
     "text": [
      "f1 score: 0.887066\n"
     ]
    }
   ],
   "source": [
    "f1_score = (2*precision*recall)/(precision+recall)\n",
    "print('f1 score: %f' %((2*precision*recall)/(precision+recall)))"
   ]
  },
  {
   "cell_type": "code",
   "execution_count": 138,
   "metadata": {},
   "outputs": [
    {
     "name": "stdout",
     "output_type": "stream",
     "text": [
      "Area under roc curve: 0.916759\n"
     ]
    },
    {
     "data": {
      "image/png": "[encoded data removed]",
      "text/plain": [
       "<Figure size 432x288 with 1 Axes>"
      ]
     },
     "metadata": {
      "needs_background": "light"
     },
     "output_type": "display_data"
    }
   ],
   "source": [
    "fpr, tpr, threshold = metrics.roc_curve(train_y, y_pred_lr)\n",
    "roc_area = metrics.auc(fpr, tpr)\n",
    "print('Area under roc curve: %f' %roc_area)\n",
    "\n",
    "plt.plot(fpr, tpr, color='darkorange')\n",
    "plt.xlabel('False Positive Rate')\n",
    "plt.ylabel('True Positive Rate')\n",
    "plt.title('Receiver operating characteristic(ROC) curve')\n",
    "plt.show()"
   ]
  },
  {
   "cell_type": "markdown",
   "metadata": {},
   "source": [
    "#### Testing phase:"
   ]
  },
  {
   "cell_type": "markdown",
   "metadata": {},
   "source": [
    "##### without sklearn library:"
   ]
  },
  {
   "cell_type": "code",
   "execution_count": 129,
   "metadata": {},
   "outputs": [
    {
     "name": "stdout",
     "output_type": "stream",
     "text": [
      "Test accuracy score: 95.605214\n"
     ]
    },
    {
     "name": "stderr",
     "output_type": "stream",
     "text": [
      "C:\\Users\\manog\\Anaconda3\\lib\\site-packages\\ipykernel_launcher.py:8: RuntimeWarning: overflow encountered in exp\n",
      "  \n"
     ]
    }
   ],
   "source": [
    "test_x = np.array(test_x)\n",
    "test_y = np.array(test_y)\n",
    "\n",
    "# calculating accuracy\n",
    "y_pred = np.zeros(shape=(test_y.shape[0]))\n",
    "for i in range(test_x.shape[0]):\n",
    "    # predicting based on W\n",
    "    if 1/(1+np.exp(-np.sum(W*test_x[i,:]))) >= 0.5:\n",
    "        # it is 1\n",
    "        y_pred[i] = 1\n",
    "    else:\n",
    "        # it is 0\n",
    "        y_pred[i] = 0\n",
    "\n",
    "test_acc = np.sum(test_y == y_pred)/y_pred.shape[0] * 100.00\n",
    "print('Test accuracy score: %f' %test_acc)"
   ]
  },
  {
   "cell_type": "markdown",
   "metadata": {},
   "source": [
    "##### with sklearn library:"
   ]
  },
  {
   "cell_type": "code",
   "execution_count": 166,
   "metadata": {},
   "outputs": [
    {
     "name": "stdout",
     "output_type": "stream",
     "text": [
      "[0 0 0 ... 0 0 0]\n"
     ]
    }
   ],
   "source": [
    "ytest_pred_lr = clf.predict(test_x)\n",
    "print(ytest_pred_lr)"
   ]
  },
  {
   "cell_type": "code",
   "execution_count": 139,
   "metadata": {},
   "outputs": [
    {
     "name": "stdout",
     "output_type": "stream",
     "text": [
      "Test accuracy score: 97.318436\n"
     ]
    }
   ],
   "source": [
    "print('Test accuracy score: %f' %(metrics.accuracy_score(test_y,clf.predict(test_x)) * 100.00))"
   ]
  },
  {
   "cell_type": "markdown",
   "metadata": {},
   "source": [
    "### SVM:"
   ]
  },
  {
   "cell_type": "markdown",
   "metadata": {},
   "source": [
    "#### Training phase:"
   ]
  },
  {
   "cell_type": "markdown",
   "metadata": {},
   "source": [
    "##### without sklearn library:"
   ]
  },
  {
   "cell_type": "code",
   "execution_count": 56,
   "metadata": {},
   "outputs": [],
   "source": [
    "def svm(x, y, epoch):    #The function that implements the SVM algorithms\n",
    "    new_y = np.copy(y)\n",
    "    new_y[new_y == 0] = -1      #Changing the label of 0 to -1\n",
    "    bias = np.ones((x.shape[0], 1))*-1\n",
    "    x_b = np.hstack((x,bias))   #Adding the bias\n",
    "    w = np.zeros((x_b.shape[1]))\n",
    "    l_r = 0.01     #Learning rate\n",
    "\n",
    "    for ep in range(epoch):     #Starting with 1 to avoid division by zero error inside the loop\n",
    "        for i, x in enumerate(x_b):\n",
    "            val = np.dot(x_b[i], w) \n",
    "            if (new_y[i]*val) < 1:\n",
    "                w = w + l_r * ((x_b[i]*new_y[i]) - (2 * (1/(ep+1)) * w))    #Keeping the hyper-parameter as (1/epoch)\n",
    "            else:\n",
    "                w = w - l_r * (2 * (1/(ep+1)) * w)\n",
    "    \n",
    "    return w    #Returning the obtained weight vector\n",
    "\n",
    "def svm_predict(x, w):   #This function does the dot product and returns the prediction as whether +1 or -1\n",
    "    f_w = w[0:int(w.shape[0]-1)]\n",
    "    b_w = w[int(w.shape[0]-1)]\n",
    "    pred_y = np.sign(np.dot(x,f_w) - b_w)   #np.sign would return +1 for > 0 and -1 for < 0\n",
    "    return pred_y\n",
    "\n",
    "def train(x, y, w):    #This function tests the weight vector against the training data\n",
    "    new_y = np.copy(y)\n",
    "    new_y[new_y == 0] = -1\n",
    "    pred_label = np.zeros((x.shape[0]))\n",
    "    for i in range(x.shape[0]):\n",
    "        pred_label[i] = svm_predict(x[i], w)\n",
    "    \n",
    "    correct = 0\n",
    "    incorrect = 0\n",
    "    \n",
    "    for j in range(pred_label.shape[0]):        \n",
    "        if pred_label[j] == new_y[j]:\n",
    "            correct += 1\n",
    "        else:\n",
    "            incorrect += 1\n",
    "    \n",
    "    accuracy = (correct/y.shape[0]) * 100.00     #Calculating the percentage of accuracy\n",
    "    return accuracy"
   ]
  },
  {
   "cell_type": "code",
   "execution_count": 57,
   "metadata": {},
   "outputs": [
    {
     "name": "stdout",
     "output_type": "stream",
     "text": [
      "Training accuracy score: 96.583653\n"
     ]
    }
   ],
   "source": [
    "train_x = np.array(train_x)\n",
    "train_y = np.array(train_y)\n",
    "\n",
    "weight = svm(train_x, train_y, 200)\n",
    "train_acc = train(train_x, train_y, weight)\n",
    "print('Training accuracy score: %f' %train_acc)"
   ]
  },
  {
   "cell_type": "markdown",
   "metadata": {},
   "source": [
    "##### with sklearn library:"
   ]
  },
  {
   "cell_type": "code",
   "execution_count": 169,
   "metadata": {},
   "outputs": [],
   "source": [
    "clf = LinearSVC(penalty='l1', loss='squared_hinge', dual=False, random_state=0, max_iter=200)\n",
    "clf = clf.fit(train_x, train_y)"
   ]
  },
  {
   "cell_type": "code",
   "execution_count": 141,
   "metadata": {},
   "outputs": [
    {
     "name": "stdout",
     "output_type": "stream",
     "text": [
      "[1 0 0 ... 0 0 0]\n"
     ]
    }
   ],
   "source": [
    "y_pred_svm = clf.predict(train_x)\n",
    "print(y_pred_svm)"
   ]
  },
  {
   "cell_type": "markdown",
   "metadata": {},
   "source": [
    "#### Metrics for Performance Measure:"
   ]
  },
  {
   "cell_type": "code",
   "execution_count": 142,
   "metadata": {},
   "outputs": [
    {
     "name": "stdout",
     "output_type": "stream",
     "text": [
      "Training accuracy score: 98.036398\n"
     ]
    }
   ],
   "source": [
    "print('Training accuracy score: %f' %(clf.score(train_x,train_y) * 100.00))"
   ]
  },
  {
   "cell_type": "code",
   "execution_count": 143,
   "metadata": {},
   "outputs": [
    {
     "name": "stdout",
     "output_type": "stream",
     "text": [
      "[[11379    53]\n",
      " [  193   903]]\n"
     ]
    },
    {
     "data": {
      "image/png": "[encoded data removed]",
      "text/plain": [
       "<Figure size 432x288 with 2 Axes>"
      ]
     },
     "metadata": {
      "needs_background": "light"
     },
     "output_type": "display_data"
    }
   ],
   "source": [
    "#confusion matrix for SVM\n",
    "\n",
    "cm = metrics.confusion_matrix(train_y, y_pred_svm)\n",
    "print(cm)\n",
    "plt.imshow(cm, cmap=plt.cm.Reds, interpolation='nearest')\n",
    "plt.title('confusion matrix for SVM')\n",
    "plt.colorbar()\n",
    "plt.xticks([0, 1])\n",
    "plt.yticks([0, 1])\n",
    "plt.xlabel('Predicted label')\n",
    "plt.ylabel('True label')\n",
    "plt.show()"
   ]
  },
  {
   "cell_type": "code",
   "execution_count": 144,
   "metadata": {},
   "outputs": [
    {
     "name": "stdout",
     "output_type": "stream",
     "text": [
      "true_negative: 11379, false_positive: 53, false_negative: 193, true_positive: 903\n"
     ]
    }
   ],
   "source": [
    "true_negative, false_positive, false_negative, true_positive = cm[0][0], cm[0][1], cm[1][0], cm[1][1]\n",
    "print('true_negative: %d, false_positive: %d, false_negative: %d, true_positive: %d' \n",
    "      %(true_negative, false_positive, false_negative, true_positive))"
   ]
  },
  {
   "cell_type": "code",
   "execution_count": 145,
   "metadata": {},
   "outputs": [
    {
     "name": "stdout",
     "output_type": "stream",
     "text": [
      "Precision: 0.944561\n"
     ]
    }
   ],
   "source": [
    "precision = true_positive/(true_positive+false_positive)\n",
    "print('Precision: %f' %precision)"
   ]
  },
  {
   "cell_type": "code",
   "execution_count": 146,
   "metadata": {},
   "outputs": [
    {
     "name": "stdout",
     "output_type": "stream",
     "text": [
      "Recall: 0.823905\n"
     ]
    }
   ],
   "source": [
    "recall = true_positive/(true_positive+false_negative)\n",
    "print('Recall: %f' %recall)"
   ]
  },
  {
   "cell_type": "code",
   "execution_count": 147,
   "metadata": {},
   "outputs": [
    {
     "name": "stdout",
     "output_type": "stream",
     "text": [
      "f1 score: 0.880117\n"
     ]
    }
   ],
   "source": [
    "f1_score = (2*precision*recall)/(precision+recall)\n",
    "print('f1 score: %f' %((2*precision*recall)/(precision+recall)))"
   ]
  },
  {
   "cell_type": "code",
   "execution_count": 148,
   "metadata": {},
   "outputs": [
    {
     "name": "stdout",
     "output_type": "stream",
     "text": [
      "Area under roc curve: 0.909635\n"
     ]
    },
    {
     "data": {
      "image/png": "[encoded data removed]",
      "text/plain": [
       "<Figure size 432x288 with 1 Axes>"
      ]
     },
     "metadata": {
      "needs_background": "light"
     },
     "output_type": "display_data"
    }
   ],
   "source": [
    "fpr, tpr, threshold = metrics.roc_curve(train_y, y_pred_svm)\n",
    "roc_area = metrics.auc(fpr, tpr)\n",
    "print('Area under roc curve: %f' %roc_area)\n",
    "\n",
    "plt.plot(fpr, tpr, color='darkorange')\n",
    "plt.xlabel('False Positive Rate')\n",
    "plt.ylabel('True Positive Rate')\n",
    "plt.title('Receiver operating characteristic(ROC) curve')\n",
    "plt.show()"
   ]
  },
  {
   "cell_type": "markdown",
   "metadata": {},
   "source": [
    "#### Testing phase:"
   ]
  },
  {
   "cell_type": "markdown",
   "metadata": {},
   "source": [
    "##### without sklearn library:"
   ]
  },
  {
   "cell_type": "code",
   "execution_count": 58,
   "metadata": {},
   "outputs": [],
   "source": [
    "def test(x, y, w):    #This function tests the weight vector against the testing data\n",
    "    new_y = np.copy(y)\n",
    "    new_y[new_y == 0] = -1\n",
    "    pred_label = np.zeros((x.shape[0]))\n",
    "    for i in range(x.shape[0]):\n",
    "        pred_label[i] = svm_predict(x[i], w)\n",
    "    \n",
    "    correct = 0\n",
    "    incorrect = 0\n",
    "    \n",
    "    for j in range(pred_label.shape[0]):        \n",
    "        if pred_label[j] == new_y[j]:\n",
    "            correct += 1\n",
    "        else:\n",
    "            incorrect += 1\n",
    "    \n",
    "    accuracy = (correct/y.shape[0]) * 100.00     #Calculating the percentage of accuracy\n",
    "    return accuracy"
   ]
  },
  {
   "cell_type": "code",
   "execution_count": 59,
   "metadata": {},
   "outputs": [
    {
     "name": "stdout",
     "output_type": "stream",
     "text": [
      "Training accuracy score: 95.716946\n"
     ]
    }
   ],
   "source": [
    "test_x = np.array(test_x)\n",
    "test_y = np.array(test_y)\n",
    "\n",
    "test_acc = test(test_x, test_y, weight)\n",
    "print('Test accuracy score: %f' %test_acc)"
   ]
  },
  {
   "cell_type": "markdown",
   "metadata": {},
   "source": [
    "##### with sklearn library:"
   ]
  },
  {
   "cell_type": "code",
   "execution_count": 170,
   "metadata": {},
   "outputs": [
    {
     "name": "stdout",
     "output_type": "stream",
     "text": [
      "[0 0 0 ... 0 0 0]\n"
     ]
    }
   ],
   "source": [
    "ytest_pred_svm = clf.predict(test_x)\n",
    "print(ytest_pred_svm)"
   ]
  },
  {
   "cell_type": "code",
   "execution_count": 149,
   "metadata": {},
   "outputs": [
    {
     "name": "stdout",
     "output_type": "stream",
     "text": [
      "Test accuracy score: 97.169460\n"
     ]
    }
   ],
   "source": [
    "print('Test accuracy score: %f' %(metrics.accuracy_score(test_y,clf.predict(test_x)) * 100.00))"
   ]
  },
  {
   "cell_type": "markdown",
   "metadata": {},
   "source": [
    "### Classification Report of each of the 4 classifiers:"
   ]
  },
  {
   "cell_type": "markdown",
   "metadata": {},
   "source": [
    "#### Random Forest classifier:"
   ]
  },
  {
   "cell_type": "code",
   "execution_count": 155,
   "metadata": {},
   "outputs": [
    {
     "data": {
      "text/plain": [
       "0.9815613026819924"
      ]
     },
     "execution_count": 155,
     "metadata": {},
     "output_type": "execute_result"
    }
   ],
   "source": [
    "metrics.accuracy_score(train_y, y_pred_rfc)"
   ]
  },
  {
   "cell_type": "code",
   "execution_count": 158,
   "metadata": {},
   "outputs": [
    {
     "data": {
      "text/plain": [
       "0.972998137802607"
      ]
     },
     "execution_count": 158,
     "metadata": {},
     "output_type": "execute_result"
    }
   ],
   "source": [
    "metrics.accuracy_score(test_y, ytest_pred_rfc)"
   ]
  },
  {
   "cell_type": "code",
   "execution_count": 151,
   "metadata": {},
   "outputs": [
    {
     "name": "stdout",
     "output_type": "stream",
     "text": [
      "             precision    recall  f1-score   support\n",
      "\n",
      "          0       0.98      1.00      0.99     11432\n",
      "          1       0.95      0.83      0.89      1096\n",
      "\n",
      "avg / total       0.98      0.98      0.98     12528\n",
      "\n"
     ]
    }
   ],
   "source": [
    "print(metrics.classification_report(train_y, y_pred_rfc, labels = [0, 1]))"
   ]
  },
  {
   "cell_type": "markdown",
   "metadata": {},
   "source": [
    "#### Decision Tree classifier:"
   ]
  },
  {
   "cell_type": "code",
   "execution_count": 159,
   "metadata": {},
   "outputs": [
    {
     "data": {
      "text/plain": [
       "0.9847541507024266"
      ]
     },
     "execution_count": 159,
     "metadata": {},
     "output_type": "execute_result"
    }
   ],
   "source": [
    "metrics.accuracy_score(train_y, y_pred_dtc)"
   ]
  },
  {
   "cell_type": "code",
   "execution_count": 163,
   "metadata": {},
   "outputs": [
    {
     "data": {
      "text/plain": [
       "0.9718808193668529"
      ]
     },
     "execution_count": 163,
     "metadata": {},
     "output_type": "execute_result"
    }
   ],
   "source": [
    "metrics.accuracy_score(test_y, ytest_pred_dtc)"
   ]
  },
  {
   "cell_type": "code",
   "execution_count": 152,
   "metadata": {},
   "outputs": [
    {
     "name": "stdout",
     "output_type": "stream",
     "text": [
      "             precision    recall  f1-score   support\n",
      "\n",
      "          0       0.99      0.99      0.99     11432\n",
      "          1       0.94      0.88      0.91      1096\n",
      "\n",
      "avg / total       0.98      0.98      0.98     12528\n",
      "\n"
     ]
    }
   ],
   "source": [
    "print(metrics.classification_report(train_y, y_pred_dtc, labels = [0, 1]))"
   ]
  },
  {
   "cell_type": "markdown",
   "metadata": {},
   "source": [
    "#### Logistic Regression:"
   ]
  },
  {
   "cell_type": "code",
   "execution_count": 164,
   "metadata": {},
   "outputs": [
    {
     "data": {
      "text/plain": [
       "0.9813218390804598"
      ]
     },
     "execution_count": 164,
     "metadata": {},
     "output_type": "execute_result"
    }
   ],
   "source": [
    "metrics.accuracy_score(train_y, y_pred_lr)"
   ]
  },
  {
   "cell_type": "code",
   "execution_count": 167,
   "metadata": {},
   "outputs": [
    {
     "data": {
      "text/plain": [
       "0.9731843575418995"
      ]
     },
     "execution_count": 167,
     "metadata": {},
     "output_type": "execute_result"
    }
   ],
   "source": [
    "metrics.accuracy_score(test_y, ytest_pred_lr)"
   ]
  },
  {
   "cell_type": "code",
   "execution_count": 153,
   "metadata": {},
   "outputs": [
    {
     "name": "stdout",
     "output_type": "stream",
     "text": [
      "             precision    recall  f1-score   support\n",
      "\n",
      "          0       0.98      1.00      0.99     11432\n",
      "          1       0.94      0.84      0.89      1096\n",
      "\n",
      "avg / total       0.98      0.98      0.98     12528\n",
      "\n"
     ]
    }
   ],
   "source": [
    "print(metrics.classification_report(train_y, y_pred_lr, labels = [0, 1]))"
   ]
  },
  {
   "cell_type": "markdown",
   "metadata": {},
   "source": [
    "#### SVM:"
   ]
  },
  {
   "cell_type": "code",
   "execution_count": 168,
   "metadata": {},
   "outputs": [
    {
     "data": {
      "text/plain": [
       "0.9803639846743295"
      ]
     },
     "execution_count": 168,
     "metadata": {},
     "output_type": "execute_result"
    }
   ],
   "source": [
    "metrics.accuracy_score(train_y, y_pred_svm)"
   ]
  },
  {
   "cell_type": "code",
   "execution_count": 171,
   "metadata": {},
   "outputs": [
    {
     "data": {
      "text/plain": [
       "0.9716945996275606"
      ]
     },
     "execution_count": 171,
     "metadata": {},
     "output_type": "execute_result"
    }
   ],
   "source": [
    "metrics.accuracy_score(test_y, ytest_pred_svm)"
   ]
  },
  {
   "cell_type": "code",
   "execution_count": 154,
   "metadata": {},
   "outputs": [
    {
     "name": "stdout",
     "output_type": "stream",
     "text": [
      "             precision    recall  f1-score   support\n",
      "\n",
      "          0       0.98      1.00      0.99     11432\n",
      "          1       0.94      0.82      0.88      1096\n",
      "\n",
      "avg / total       0.98      0.98      0.98     12528\n",
      "\n"
     ]
    }
   ],
   "source": [
    "print(metrics.classification_report(train_y, y_pred_svm, labels = [0, 1]))"
   ]
  },
  {
   "cell_type": "code",
   "execution_count": null,
   "metadata": {},
   "outputs": [],
   "source": []
  }
 ],
 "metadata": {
  "kernelspec": {
   "display_name": "Python 3",
   "language": "python",
   "name": "python3"
  },
  "language_info": {
   "codemirror_mode": {
    "name": "ipython",
    "version": 3
   },
   "file_extension": ".py",
   "mimetype": "text/x-python",
   "name": "python",
   "nbconvert_exporter": "python",
   "pygments_lexer": "ipython3",
   "version": "3.7.3"
  }
 },
 "nbformat": 4,
 "nbformat_minor": 2
}
